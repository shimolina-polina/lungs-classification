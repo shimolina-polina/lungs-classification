{
  "nbformat": 4,
  "nbformat_minor": 0,
  "metadata": {
    "colab": {
      "provenance": []
    },
    "kernelspec": {
      "name": "python3",
      "display_name": "Python 3"
    },
    "language_info": {
      "name": "python"
    }
  },
  "cells": [
    {
      "cell_type": "code",
      "execution_count": null,
      "metadata": {
        "colab": {
          "base_uri": "https://localhost:8080/"
        },
        "id": "bhBNOLsXjrRY",
        "outputId": "e067024a-cdb2-471c-d01a-6599380f7699"
      },
      "outputs": [
        {
          "output_type": "stream",
          "name": "stdout",
          "text": [
            "Mounted at /content/gdrive\n"
          ]
        }
      ],
      "source": [
        "from google.colab import drive\n",
        "drive.mount('/content/gdrive')"
      ]
    },
    {
      "cell_type": "code",
      "source": [
        "import tensorflow as tf\n",
        "from tensorflow.keras import layers\n",
        "import numpy as np\n",
        "import os"
      ],
      "metadata": {
        "id": "tEvLETnFjyaQ"
      },
      "execution_count": null,
      "outputs": []
    },
    {
      "cell_type": "code",
      "source": [
        "# задаем параметры обучения\n",
        "img_height = 150\n",
        "img_width = 150\n",
        "batch_size = 32\n",
        "num_epochs = 20"
      ],
      "metadata": {
        "id": "t61oYUPvkQko"
      },
      "execution_count": null,
      "outputs": []
    },
    {
      "cell_type": "code",
      "source": [
        "train_directory = \"/content/gdrive/MyDrive/датасеты/main_directory/train_directory\"\n",
        "validation_directory = \"/content/gdrive/MyDrive/датасеты/main_directory/validation_directory\"\n",
        "test_directory=\"/content/gdrive/MyDrive/датасеты/main_directory/test_directory\"\n"
      ],
      "metadata": {
        "id": "hoBzPor7DkMJ"
      },
      "execution_count": null,
      "outputs": []
    },
    {
      "cell_type": "code",
      "source": [
        "# загружаем данные\n",
        "train_df = tf.keras.preprocessing.image_dataset_from_directory(\n",
        "  train_directory,\n",
        "  seed=123,\n",
        "  image_size=(img_height, img_width),\n",
        "  batch_size=batch_size\n",
        ")\n",
        "\n",
        "val_df = tf.keras.preprocessing.image_dataset_from_directory(\n",
        "  validation_directory,\n",
        "  seed=123,\n",
        "  image_size=(img_height, img_width),\n",
        "  batch_size=batch_size\n",
        ")\n",
        "\n",
        "test_df = tf.keras.preprocessing.image_dataset_from_directory(\n",
        "  test_directory,\n",
        "  image_size=(img_height, img_width),\n",
        "  batch_size=batch_size\n",
        ")"
      ],
      "metadata": {
        "colab": {
          "base_uri": "https://localhost:8080/"
        },
        "id": "3hpcriCvkVWt",
        "outputId": "1d8cfa21-4a2e-47a1-d931-14a05cd75da5"
      },
      "execution_count": null,
      "outputs": [
        {
          "output_type": "stream",
          "name": "stdout",
          "text": [
            "Found 5216 files belonging to 2 classes.\n",
            "Found 16 files belonging to 2 classes.\n",
            "Found 862 files belonging to 2 classes.\n"
          ]
        }
      ]
    },
    {
      "cell_type": "code",
      "source": [
        "# подготавливаем данные для обучения\n",
        "normalization_layer = tf.keras.layers.experimental.preprocessing.Rescaling(1./255)\n",
        "train_df = train_df.map(lambda x, y: (normalization_layer(x), y))\n",
        "val_df = val_df.map(lambda x, y: (normalization_layer(x), y))\n",
        "test_df = test_df.map(lambda x, y: (normalization_layer(x), y))"
      ],
      "metadata": {
        "id": "eXTLWDWfZLK6"
      },
      "execution_count": null,
      "outputs": []
    },
    {
      "cell_type": "code",
      "source": [
        "# определяем архитектуру модели\n",
        "model = tf.keras.Sequential([\n",
        "  layers.Conv2D(32, (3,3), activation='relu', input_shape=(img_width, img_height, 3)),\n",
        "  layers.MaxPooling2D((2,2)),\n",
        "  layers.Conv2D(64, (3,3), activation='relu'),\n",
        "  layers.MaxPooling2D((2,2)),\n",
        "  layers.Conv2D(128, (3,3), activation='relu'),\n",
        "  layers.MaxPooling2D((2,2)),\n",
        "  layers.Flatten(),\n",
        "  layers.Dense(64, activation='relu'),\n",
        "  layers.Dense(1, activation='sigmoid')\n",
        "])"
      ],
      "metadata": {
        "id": "zwVAUyVgZTW2"
      },
      "execution_count": null,
      "outputs": []
    },
    {
      "cell_type": "code",
      "source": [
        "# компилируем модель\n",
        "\n",
        "model.compile(optimizer='adam', loss='binary_crossentropy', metrics=['accuracy'])"
      ],
      "metadata": {
        "id": "_dgMGNSkZh7i"
      },
      "execution_count": null,
      "outputs": []
    },
    {
      "cell_type": "code",
      "source": [
        "history = model.fit(\n",
        "    train_df,\n",
        "    validation_data=val_df,\n",
        "    epochs=num_epochs\n",
        ")"
      ],
      "metadata": {
        "colab": {
          "base_uri": "https://localhost:8080/"
        },
        "id": "Fb4oPbyIjUw-",
        "outputId": "8343a853-aeb2-45c6-abd7-c33141088e04"
      },
      "execution_count": null,
      "outputs": [
        {
          "output_type": "stream",
          "name": "stdout",
          "text": [
            "Epoch 1/20\n",
            "163/163 [==============================] - 189s 1s/step - loss: 0.2447 - accuracy: 0.8980 - val_loss: 0.2465 - val_accuracy: 0.9375\n",
            "Epoch 2/20\n",
            "163/163 [==============================] - 176s 1s/step - loss: 0.1047 - accuracy: 0.9628 - val_loss: 0.3471 - val_accuracy: 0.8750\n",
            "Epoch 3/20\n",
            "163/163 [==============================] - 175s 1s/step - loss: 0.0822 - accuracy: 0.9697 - val_loss: 0.3648 - val_accuracy: 0.8750\n",
            "Epoch 4/20\n",
            "163/163 [==============================] - 180s 1s/step - loss: 0.0678 - accuracy: 0.9737 - val_loss: 0.1741 - val_accuracy: 0.8750\n",
            "Epoch 5/20\n",
            "163/163 [==============================] - 175s 1s/step - loss: 0.0478 - accuracy: 0.9835 - val_loss: 0.2046 - val_accuracy: 0.8750\n",
            "Epoch 6/20\n",
            "163/163 [==============================] - 174s 1s/step - loss: 0.0438 - accuracy: 0.9845 - val_loss: 0.2792 - val_accuracy: 0.8750\n",
            "Epoch 7/20\n",
            "163/163 [==============================] - 179s 1s/step - loss: 0.0406 - accuracy: 0.9845 - val_loss: 0.1929 - val_accuracy: 0.8750\n",
            "Epoch 8/20\n",
            "163/163 [==============================] - 175s 1s/step - loss: 0.0323 - accuracy: 0.9889 - val_loss: 0.5249 - val_accuracy: 0.8750\n",
            "Epoch 9/20\n",
            "163/163 [==============================] - 173s 1s/step - loss: 0.0222 - accuracy: 0.9914 - val_loss: 0.4615 - val_accuracy: 0.8750\n",
            "Epoch 10/20\n",
            "163/163 [==============================] - 180s 1s/step - loss: 0.0195 - accuracy: 0.9925 - val_loss: 0.1535 - val_accuracy: 0.9375\n",
            "Epoch 11/20\n",
            "163/163 [==============================] - 176s 1s/step - loss: 0.0192 - accuracy: 0.9919 - val_loss: 0.1780 - val_accuracy: 0.9375\n",
            "Epoch 12/20\n",
            "163/163 [==============================] - 174s 1s/step - loss: 0.0132 - accuracy: 0.9950 - val_loss: 0.4705 - val_accuracy: 0.9375\n",
            "Epoch 13/20\n",
            "163/163 [==============================] - 179s 1s/step - loss: 0.0104 - accuracy: 0.9960 - val_loss: 0.3389 - val_accuracy: 0.9375\n",
            "Epoch 14/20\n",
            "163/163 [==============================] - 176s 1s/step - loss: 0.0069 - accuracy: 0.9971 - val_loss: 0.3599 - val_accuracy: 0.9375\n",
            "Epoch 15/20\n",
            "163/163 [==============================] - 174s 1s/step - loss: 0.0099 - accuracy: 0.9962 - val_loss: 0.1818 - val_accuracy: 0.9375\n",
            "Epoch 16/20\n",
            "163/163 [==============================] - 174s 1s/step - loss: 0.0119 - accuracy: 0.9965 - val_loss: 0.6327 - val_accuracy: 0.8125\n",
            "Epoch 17/20\n",
            "163/163 [==============================] - 180s 1s/step - loss: 0.0053 - accuracy: 0.9983 - val_loss: 0.2752 - val_accuracy: 0.9375\n",
            "Epoch 18/20\n",
            "163/163 [==============================] - 176s 1s/step - loss: 0.0069 - accuracy: 0.9971 - val_loss: 0.5354 - val_accuracy: 0.8750\n",
            "Epoch 19/20\n",
            "163/163 [==============================] - 174s 1s/step - loss: 0.0029 - accuracy: 0.9992 - val_loss: 0.3495 - val_accuracy: 0.9375\n",
            "Epoch 20/20\n",
            " 35/163 [=====>........................] - ETA: 2:18 - loss: 0.0030 - accuracy: 0.9991"
          ]
        }
      ]
    },
    {
      "cell_type": "code",
      "source": [
        "model.summary()"
      ],
      "metadata": {
        "colab": {
          "base_uri": "https://localhost:8080/"
        },
        "id": "AC-YwIEWW_QR",
        "outputId": "d69f89fd-19b7-4799-ace9-7472bd396ecf"
      },
      "execution_count": null,
      "outputs": [
        {
          "output_type": "stream",
          "name": "stdout",
          "text": [
            "Model: \"sequential\"\n",
            "_________________________________________________________________\n",
            " Layer (type)                Output Shape              Param #   \n",
            "=================================================================\n",
            " conv2d (Conv2D)             (None, 148, 148, 32)      896       \n",
            "                                                                 \n",
            " max_pooling2d (MaxPooling2D  (None, 74, 74, 32)       0         \n",
            " )                                                               \n",
            "                                                                 \n",
            " conv2d_1 (Conv2D)           (None, 72, 72, 64)        18496     \n",
            "                                                                 \n",
            " max_pooling2d_1 (MaxPooling  (None, 36, 36, 64)       0         \n",
            " 2D)                                                             \n",
            "                                                                 \n",
            " conv2d_2 (Conv2D)           (None, 34, 34, 128)       73856     \n",
            "                                                                 \n",
            " max_pooling2d_2 (MaxPooling  (None, 17, 17, 128)      0         \n",
            " 2D)                                                             \n",
            "                                                                 \n",
            " flatten (Flatten)           (None, 36992)             0         \n",
            "                                                                 \n",
            " dense (Dense)               (None, 64)                2367552   \n",
            "                                                                 \n",
            " dense_1 (Dense)             (None, 1)                 65        \n",
            "                                                                 \n",
            "=================================================================\n",
            "Total params: 2,460,865\n",
            "Trainable params: 2,460,865\n",
            "Non-trainable params: 0\n",
            "_________________________________________________________________\n"
          ]
        }
      ]
    },
    {
      "cell_type": "code",
      "source": [
        "# оцениваем качество модели на тестовых данных\n",
        "test_loss, test_acc = model.evaluate(test_df)\n",
        "print('Test accuracy:', test_acc)"
      ],
      "metadata": {
        "colab": {
          "base_uri": "https://localhost:8080/"
        },
        "id": "LA6y20e_Z3Qf",
        "outputId": "540b0383-5283-421c-aa44-53cc6bcbd089"
      },
      "execution_count": null,
      "outputs": [
        {
          "output_type": "stream",
          "name": "stdout",
          "text": [
            "27/27 [==============================] - 158s 4s/step - loss: 7.7734 - accuracy: 0.6334\n",
            "Test accuracy: 0.6334106922149658\n"
          ]
        }
      ]
    },
    {
      "cell_type": "code",
      "source": [
        "# График изменения loss на обучающих и проверочных данных\n",
        "\n",
        "train_loss = history.history['loss']\n",
        "val_loss = history.history['val_loss']\n",
        "\n",
        "plt.figure()\n",
        "plt.plot(epochs_range, train_loss, label='Training Loss')\n",
        "plt.plot(epochs_range, val_loss, label='Validation Loss')\n",
        "plt.legend(loc='upper right')\n",
        "plt.title('Training and Validation Loss')\n",
        "\n",
        "# График изменения accuracy на обучающих и проверочных данных\n",
        "train_acc = history.history['accuracy']\n",
        "val_acc = history.history['val_accuracy']\n",
        "\n",
        "plt.figure()\n",
        "plt.plot(epochs_range, train_acc, label='Training Accuracy')\n",
        "plt.plot(epochs_range, val_acc, label='Validation Accuracy')\n",
        "\n",
        "plt.legend(loc='lower right')\n",
        "plt.title('Training and Validation Accuracy')\n",
        "plt.show()"
      ],
      "metadata": {
        "id": "LL_fFstciDez"
      },
      "execution_count": null,
      "outputs": []
    },
    {
      "cell_type": "code",
      "source": [
        "# загружаем новое изображение легких и определяем, относится ли оно к здоровым или к пневмонии\n",
        "img_path = '/content/person341_virus_699(п).jpeg'\n",
        "img = tf.keras.preprocessing.image.load_img(img_path, target_size=(img_height, img_width))\n",
        "img_array = tf.keras.preprocessing.image.img_to_array(img)\n",
        "img_array = tf.expand_dims(img_array, 0)\n",
        "img_array = normalization_layer(img_array)\n",
        "prediction = model.predict(img_array)\n",
        "if prediction[0][0] > 0.5:\n",
        "  print('Pneumonia')\n",
        "else:\n",
        "  print('Healthy')"
      ],
      "metadata": {
        "id": "5lLtYgHdaAHS"
      },
      "execution_count": null,
      "outputs": []
    },
    {
      "cell_type": "code",
      "source": [
        "from tensorflow.keras.applications.vgg16 import VGG16\n",
        "from tensorflow.keras.models import Model\n",
        "from tensorflow.keras.preprocessing.image import ImageDataGenerator"
      ],
      "metadata": {
        "id": "RZDNNG6E9dsQ"
      },
      "execution_count": null,
      "outputs": []
    },
    {
      "cell_type": "code",
      "source": [
        "# Загрузка предварительно обученной модели VGG-16, обученной на наборе данных ImageNet\n",
        "vgg = VGG16(weights='imagenet', include_top=False, input_shape=(224, 224, 3))"
      ],
      "metadata": {
        "colab": {
          "base_uri": "https://localhost:8080/"
        },
        "id": "epbgjBHd-Dng",
        "outputId": "6ec5a7b7-ef74-426e-9fd6-14776c7688e7"
      },
      "execution_count": null,
      "outputs": [
        {
          "output_type": "stream",
          "name": "stdout",
          "text": [
            "Downloading data from https://storage.googleapis.com/tensorflow/keras-applications/vgg16/vgg16_weights_tf_dim_ordering_tf_kernels_notop.h5\n",
            "58889256/58889256 [==============================] - 0s 0us/step\n"
          ]
        }
      ]
    },
    {
      "cell_type": "code",
      "source": [
        "# Добавление новых слоев, соответствующих задаче классификации легких\n",
        "x = layers.Flatten()(vgg.output)\n",
        "x = layers.Dense(64, activation='relu')(x)\n",
        "x = layers.Dense(1, activation='sigmoid')(x)"
      ],
      "metadata": {
        "id": "mSrIkUq5-GKY"
      },
      "execution_count": null,
      "outputs": []
    },
    {
      "cell_type": "code",
      "source": [
        "# Сборка модели\n",
        "model = Model(inputs=vgg.input, outputs=x)"
      ],
      "metadata": {
        "id": "LYoP0KOE-MYc"
      },
      "execution_count": null,
      "outputs": []
    },
    {
      "cell_type": "code",
      "source": [
        "# Замораживание весов предварительно обученных слоев VGG-16\n",
        "for layer in vgg.layers:\n",
        "    layer.trainable = False"
      ],
      "metadata": {
        "id": "_7m93_lD-OkD"
      },
      "execution_count": null,
      "outputs": []
    },
    {
      "cell_type": "code",
      "source": [
        "# Компиляция модели\n",
        "model.compile(loss='binary_crossentropy', optimizer='adam', metrics=['accuracy'])"
      ],
      "metadata": {
        "id": "nmAzkwzk-Qbr"
      },
      "execution_count": null,
      "outputs": []
    },
    {
      "cell_type": "code",
      "source": [
        "# Создание генераторов изображений для обучения и валидации модели\n",
        "train_datagen = ImageDataGenerator(rescale=1./255, shear_range=0.2, zoom_range=0.2, horizontal_flip=True)\n",
        "test_datagen = ImageDataGenerator(rescale=1./255)\n",
        "val_datagen = ImageDataGenerator(rescale=1./255)\n",
        "train_generator = train_datagen.flow_from_directory(train_directory, target_size=(224, 224), batch_size=32, class_mode='binary')\n",
        "test_generator = test_datagen.flow_from_directory(test_directory, target_size=(224, 224), batch_size=32, class_mode='binary')\n",
        "val_generator = val_datagen.flow_from_directory(validation_directory, target_size=(224, 224), batch_size=32, class_mode='binary')"
      ],
      "metadata": {
        "colab": {
          "base_uri": "https://localhost:8080/"
        },
        "id": "ZAgLb3x2-UVe",
        "outputId": "6de1ca4f-075b-436b-8cef-6528e4d3b223"
      },
      "execution_count": null,
      "outputs": [
        {
          "output_type": "stream",
          "name": "stdout",
          "text": [
            "Found 5216 images belonging to 2 classes.\n",
            "Found 862 images belonging to 2 classes.\n",
            "Found 16 images belonging to 2 classes.\n"
          ]
        }
      ]
    },
    {
      "cell_type": "code",
      "source": [
        "# Обучение модели\n",
        "new_history = model.fit(train_generator, epochs=5, validation_data=val_generator)"
      ],
      "metadata": {
        "colab": {
          "base_uri": "https://localhost:8080/"
        },
        "id": "xQY0CSNt-gCl",
        "outputId": "16c59495-c268-40fa-f7ac-ce61f8648d02"
      },
      "execution_count": null,
      "outputs": [
        {
          "output_type": "stream",
          "name": "stdout",
          "text": [
            "Epoch 1/5\n",
            "163/163 [==============================] - 2210s 13s/step - loss: 0.3348 - accuracy: 0.8738 - val_loss: 0.7501 - val_accuracy: 0.6875\n",
            "Epoch 2/5\n",
            "163/163 [==============================] - 2147s 13s/step - loss: 0.2251 - accuracy: 0.9469 - val_loss: 0.6281 - val_accuracy: 0.7500\n",
            "Epoch 3/5\n",
            "163/163 [==============================] - 2146s 13s/step - loss: 0.2054 - accuracy: 0.9555 - val_loss: 0.7947 - val_accuracy: 0.6875\n",
            "Epoch 4/5\n",
            "163/163 [==============================] - 2158s 13s/step - loss: 0.1857 - accuracy: 0.9640 - val_loss: 0.3737 - val_accuracy: 0.8125\n",
            "Epoch 5/5\n",
            "163/163 [==============================] - 2154s 13s/step - loss: 0.1701 - accuracy: 0.9672 - val_loss: 0.5167 - val_accuracy: 0.6875\n"
          ]
        }
      ]
    },
    {
      "cell_type": "code",
      "source": [
        "# оцениваем качество модели на тестовых данных\n",
        "test_loss, test_acc = model.evaluate(test_generator)\n",
        "print('Test accuracy:', test_acc)"
      ],
      "metadata": {
        "colab": {
          "base_uri": "https://localhost:8080/"
        },
        "id": "K_TwX5ov_f4K",
        "outputId": "dc4d46a7-60b6-44c7-aff1-d2aa3509d3ca"
      },
      "execution_count": null,
      "outputs": [
        {
          "output_type": "stream",
          "name": "stdout",
          "text": [
            "27/27 [==============================] - 351s 13s/step - loss: 0.5376 - accuracy: 0.8364\n",
            "Test accuracy: 0.8364269137382507\n"
          ]
        }
      ]
    },
    {
      "cell_type": "code",
      "source": [
        "# График изменения loss на обучающих и проверочных данных\n",
        "import matplotlib.pyplot as plt\n",
        "epochs_range = range(1, 6)\n",
        "train_loss = new_history.history['loss']\n",
        "val_loss = new_history.history['val_loss']\n",
        "\n",
        "plt.figure()\n",
        "plt.plot(epochs_range, train_loss, label='Training Loss')\n",
        "plt.plot(epochs_range, val_loss, label='Validation Loss')\n",
        "plt.legend(loc='upper right')\n",
        "plt.title('Training and Validation Loss')\n",
        "\n",
        "# График изменения accuracy на обучающих и проверочных данных\n",
        "train_acc = new_history.history['accuracy']\n",
        "val_acc = new_history.history['val_accuracy']\n",
        "\n",
        "plt.figure()\n",
        "plt.plot(epochs_range, train_acc, label='Training Accuracy')\n",
        "plt.plot(epochs_range, val_acc, label='Validation Accuracy')\n",
        "plt.legend(loc='lower right')\n",
        "plt.title('Training and Validation Accuracy')\n",
        "plt.show()"
      ],
      "metadata": {
        "colab": {
          "base_uri": "https://localhost:8080/",
          "height": 887
        },
        "id": "enRxBKfw-oHR",
        "outputId": "0ccdc1bd-c29c-48c3-d2c8-39c8e531a518"
      },
      "execution_count": null,
      "outputs": [
        {
          "output_type": "display_data",
          "data": {
            "text/plain": [
              "<Figure size 640x480 with 1 Axes>"
            ],
            "image/png": "[encoded data removed]"
          },
          "metadata": {}
        },
        {
          "output_type": "display_data",
          "data": {
            "text/plain": [
              "<Figure size 640x480 with 1 Axes>"
            ],
            "image/png": "[encoded data removed]"
          },
          "metadata": {}
        }
      ]
    },
    {
      "cell_type": "code",
      "source": [
        "model.summary()"
      ],
      "metadata": {
        "colab": {
          "base_uri": "https://localhost:8080/"
        },
        "id": "mkYVSpbXwcVW",
        "outputId": "7f47719d-9c1c-43b8-ae34-2299adfc62ae"
      },
      "execution_count": null,
      "outputs": [
        {
          "output_type": "stream",
          "name": "stdout",
          "text": [
            "Model: \"model\"\n",
            "_________________________________________________________________\n",
            " Layer (type)                Output Shape              Param #   \n",
            "=================================================================\n",
            " input_1 (InputLayer)        [(None, 224, 224, 3)]     0         \n",
            "                                                                 \n",
            " block1_conv1 (Conv2D)       (None, 224, 224, 64)      1792      \n",
            "                                                                 \n",
            " block1_conv2 (Conv2D)       (None, 224, 224, 64)      36928     \n",
            "                                                                 \n",
            " block1_pool (MaxPooling2D)  (None, 112, 112, 64)      0         \n",
            "                                                                 \n",
            " block2_conv1 (Conv2D)       (None, 112, 112, 128)     73856     \n",
            "                                                                 \n",
            " block2_conv2 (Conv2D)       (None, 112, 112, 128)     147584    \n",
            "                                                                 \n",
            " block2_pool (MaxPooling2D)  (None, 56, 56, 128)       0         \n",
            "                                                                 \n",
            " block3_conv1 (Conv2D)       (None, 56, 56, 256)       295168    \n",
            "                                                                 \n",
            " block3_conv2 (Conv2D)       (None, 56, 56, 256)       590080    \n",
            "                                                                 \n",
            " block3_conv3 (Conv2D)       (None, 56, 56, 256)       590080    \n",
            "                                                                 \n",
            " block3_pool (MaxPooling2D)  (None, 28, 28, 256)       0         \n",
            "                                                                 \n",
            " block4_conv1 (Conv2D)       (None, 28, 28, 512)       1180160   \n",
            "                                                                 \n",
            " block4_conv2 (Conv2D)       (None, 28, 28, 512)       2359808   \n",
            "                                                                 \n",
            " block4_conv3 (Conv2D)       (None, 28, 28, 512)       2359808   \n",
            "                                                                 \n",
            " block4_pool (MaxPooling2D)  (None, 14, 14, 512)       0         \n",
            "                                                                 \n",
            " block5_conv1 (Conv2D)       (None, 14, 14, 512)       2359808   \n",
            "                                                                 \n",
            " block5_conv2 (Conv2D)       (None, 14, 14, 512)       2359808   \n",
            "                                                                 \n",
            " block5_conv3 (Conv2D)       (None, 14, 14, 512)       2359808   \n",
            "                                                                 \n",
            " block5_pool (MaxPooling2D)  (None, 7, 7, 512)         0         \n",
            "                                                                 \n",
            " flatten (Flatten)           (None, 25088)             0         \n",
            "                                                                 \n",
            " dense (Dense)               (None, 64)                1605696   \n",
            "                                                                 \n",
            " dense_1 (Dense)             (None, 1)                 65        \n",
            "                                                                 \n",
            "=================================================================\n",
            "Total params: 16,320,449\n",
            "Trainable params: 1,605,761\n",
            "Non-trainable params: 14,714,688\n",
            "_________________________________________________________________\n"
          ]
        }
      ]
    }
  ]
}